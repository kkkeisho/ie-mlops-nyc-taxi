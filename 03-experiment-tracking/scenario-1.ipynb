{
 "cells": [
  {
   "cell_type": "markdown",
   "metadata": {},
   "source": [
    "## Scenario 1: A single data scientist participating in an ML competition\n",
    "\n",
    "This scenario demonstrates how an individual data scientist can use MLflow to track machine learning experiments on their local machine. This is a common setup for solo projects, hackathons, or competitions where collaboration and remote access are not required.\n",
    "\n",
    "### MLflow setup overview\n",
    "- **Tracking server:** Not used (runs locally, no remote server)\n",
    "- **Backend store:** Local filesystem (stores experiment metadata in the `mlruns/` folder)\n",
    "- **Artifacts store:** Local filesystem (stores model files and other artifacts in the same `mlruns/` folder)\n",
    "\n",
    "With this setup, all experiment runs, parameters, metrics, and artifacts are saved locally. You can explore and compare your experiments using the MLflow UI.\n",
    "\n",
    "### How to use the MLflow UI\n",
    "- You can launch the MLflow UI by running `mlflow ui` in your terminal, or by running the provided code cell in this notebook.\n",
    "- The UI will be available at [http://localhost:5000](http://localhost:5000).\n",
    "- Use the UI to browse experiments, compare runs, and inspect logged models and artifacts.\n",
    "\n",
    "> **Tip:** This local setup is ideal for learning and prototyping. For team projects or production, you would typically use a remote tracking server and a more robust backend (e.g., a database and cloud storage)."
   ]
  },
  {
   "cell_type": "code",
   "execution_count": 1,
   "metadata": {},
   "outputs": [
    {
     "name": "stdout",
     "output_type": "stream",
     "text": [
      "Collecting mlflow\n",
      "  Downloading mlflow-3.5.1-py3-none-any.whl.metadata (30 kB)\n",
      "Collecting mlflow-skinny==3.5.1 (from mlflow)\n",
      "  Downloading mlflow_skinny-3.5.1-py3-none-any.whl.metadata (31 kB)\n",
      "Collecting mlflow-tracing==3.5.1 (from mlflow)\n",
      "  Downloading mlflow_tracing-3.5.1-py3-none-any.whl.metadata (19 kB)\n",
      "Collecting Flask-CORS<7 (from mlflow)\n",
      "  Downloading flask_cors-6.0.1-py3-none-any.whl.metadata (5.3 kB)\n",
      "Collecting Flask<4 (from mlflow)\n",
      "  Downloading flask-3.1.2-py3-none-any.whl.metadata (3.2 kB)\n",
      "Collecting alembic!=1.10.0,<2 (from mlflow)\n",
      "  Downloading alembic-1.17.1-py3-none-any.whl.metadata (7.2 kB)\n",
      "Collecting cryptography<47,>=43.0.0 (from mlflow)\n",
      "  Downloading cryptography-46.0.3-cp38-abi3-macosx_10_9_universal2.whl.metadata (5.7 kB)\n",
      "Collecting docker<8,>=4.0.0 (from mlflow)\n",
      "  Downloading docker-7.1.0-py3-none-any.whl.metadata (3.8 kB)\n",
      "Collecting graphene<4 (from mlflow)\n",
      "  Downloading graphene-3.4.3-py2.py3-none-any.whl.metadata (6.9 kB)\n",
      "Collecting gunicorn<24 (from mlflow)\n",
      "  Downloading gunicorn-23.0.0-py3-none-any.whl.metadata (4.4 kB)\n",
      "Requirement already satisfied: matplotlib<4 in /Users/keishoomori/myenv/lib/python3.10/site-packages (from mlflow) (3.10.3)\n",
      "Requirement already satisfied: numpy<3 in /Users/keishoomori/myenv/lib/python3.10/site-packages (from mlflow) (2.2.6)\n",
      "Requirement already satisfied: pandas<3 in /Users/keishoomori/myenv/lib/python3.10/site-packages (from mlflow) (2.3.1)\n",
      "Requirement already satisfied: pyarrow<22,>=4.0.0 in /Users/keishoomori/myenv/lib/python3.10/site-packages (from mlflow) (20.0.0)\n",
      "Requirement already satisfied: scikit-learn<2 in /Users/keishoomori/myenv/lib/python3.10/site-packages (from mlflow) (1.7.2)\n",
      "Requirement already satisfied: scipy<2 in /Users/keishoomori/myenv/lib/python3.10/site-packages (from mlflow) (1.15.3)\n",
      "Collecting sqlalchemy<3,>=1.4.0 (from mlflow)\n",
      "  Downloading sqlalchemy-2.0.44-cp310-cp310-macosx_11_0_arm64.whl.metadata (9.5 kB)\n",
      "Collecting cachetools<7,>=5.0.0 (from mlflow-skinny==3.5.1->mlflow)\n",
      "  Downloading cachetools-6.2.1-py3-none-any.whl.metadata (5.5 kB)\n",
      "Collecting click<9,>=7.0 (from mlflow-skinny==3.5.1->mlflow)\n",
      "  Downloading click-8.3.0-py3-none-any.whl.metadata (2.6 kB)\n",
      "Requirement already satisfied: cloudpickle<4 in /Users/keishoomori/myenv/lib/python3.10/site-packages (from mlflow-skinny==3.5.1->mlflow) (3.1.1)\n",
      "Collecting databricks-sdk<1,>=0.20.0 (from mlflow-skinny==3.5.1->mlflow)\n",
      "  Downloading databricks_sdk-0.70.0-py3-none-any.whl.metadata (39 kB)\n",
      "Collecting fastapi<1 (from mlflow-skinny==3.5.1->mlflow)\n",
      "  Downloading fastapi-0.120.1-py3-none-any.whl.metadata (28 kB)\n",
      "Collecting gitpython<4,>=3.1.9 (from mlflow-skinny==3.5.1->mlflow)\n",
      "  Downloading gitpython-3.1.45-py3-none-any.whl.metadata (13 kB)\n",
      "Collecting importlib_metadata!=4.7.0,<9,>=3.7.0 (from mlflow-skinny==3.5.1->mlflow)\n",
      "  Downloading importlib_metadata-8.7.0-py3-none-any.whl.metadata (4.8 kB)\n",
      "Collecting opentelemetry-api<3,>=1.9.0 (from mlflow-skinny==3.5.1->mlflow)\n",
      "  Downloading opentelemetry_api-1.38.0-py3-none-any.whl.metadata (1.5 kB)\n",
      "Collecting opentelemetry-proto<3,>=1.9.0 (from mlflow-skinny==3.5.1->mlflow)\n",
      "  Downloading opentelemetry_proto-1.38.0-py3-none-any.whl.metadata (2.3 kB)\n",
      "Collecting opentelemetry-sdk<3,>=1.9.0 (from mlflow-skinny==3.5.1->mlflow)\n",
      "  Downloading opentelemetry_sdk-1.38.0-py3-none-any.whl.metadata (1.5 kB)\n",
      "Requirement already satisfied: packaging<26 in /Users/keishoomori/myenv/lib/python3.10/site-packages (from mlflow-skinny==3.5.1->mlflow) (25.0)\n",
      "Requirement already satisfied: protobuf<7,>=3.12.0 in /Users/keishoomori/myenv/lib/python3.10/site-packages (from mlflow-skinny==3.5.1->mlflow) (6.32.0)\n",
      "Collecting pydantic<3,>=1.10.8 (from mlflow-skinny==3.5.1->mlflow)\n",
      "  Downloading pydantic-2.12.3-py3-none-any.whl.metadata (87 kB)\n",
      "Collecting python-dotenv<2,>=0.19.0 (from mlflow-skinny==3.5.1->mlflow)\n",
      "  Downloading python_dotenv-1.2.1-py3-none-any.whl.metadata (25 kB)\n",
      "Requirement already satisfied: pyyaml<7,>=5.1 in /Users/keishoomori/myenv/lib/python3.10/site-packages (from mlflow-skinny==3.5.1->mlflow) (6.0.2)\n",
      "Requirement already satisfied: requests<3,>=2.17.3 in /Users/keishoomori/myenv/lib/python3.10/site-packages (from mlflow-skinny==3.5.1->mlflow) (2.32.4)\n",
      "Collecting sqlparse<1,>=0.4.0 (from mlflow-skinny==3.5.1->mlflow)\n",
      "  Downloading sqlparse-0.5.3-py3-none-any.whl.metadata (3.9 kB)\n",
      "Requirement already satisfied: typing-extensions<5,>=4.0.0 in /Users/keishoomori/myenv/lib/python3.10/site-packages (from mlflow-skinny==3.5.1->mlflow) (4.14.1)\n",
      "Collecting uvicorn<1 (from mlflow-skinny==3.5.1->mlflow)\n",
      "  Downloading uvicorn-0.38.0-py3-none-any.whl.metadata (6.8 kB)\n",
      "Collecting Mako (from alembic!=1.10.0,<2->mlflow)\n",
      "  Downloading mako-1.3.10-py3-none-any.whl.metadata (2.9 kB)\n",
      "Requirement already satisfied: tomli in /Users/keishoomori/myenv/lib/python3.10/site-packages (from alembic!=1.10.0,<2->mlflow) (2.2.1)\n",
      "Collecting cffi>=2.0.0 (from cryptography<47,>=43.0.0->mlflow)\n",
      "  Downloading cffi-2.0.0-cp310-cp310-macosx_11_0_arm64.whl.metadata (2.6 kB)\n",
      "Collecting google-auth~=2.0 (from databricks-sdk<1,>=0.20.0->mlflow-skinny==3.5.1->mlflow)\n",
      "  Downloading google_auth-2.42.0-py2.py3-none-any.whl.metadata (6.6 kB)\n",
      "Requirement already satisfied: urllib3>=1.26.0 in /Users/keishoomori/myenv/lib/python3.10/site-packages (from docker<8,>=4.0.0->mlflow) (2.5.0)\n",
      "Collecting starlette<0.50.0,>=0.40.0 (from fastapi<1->mlflow-skinny==3.5.1->mlflow)\n",
      "  Downloading starlette-0.49.1-py3-none-any.whl.metadata (6.4 kB)\n",
      "Collecting annotated-doc>=0.0.2 (from fastapi<1->mlflow-skinny==3.5.1->mlflow)\n",
      "  Downloading annotated_doc-0.0.3-py3-none-any.whl.metadata (6.6 kB)\n",
      "Collecting blinker>=1.9.0 (from Flask<4->mlflow)\n",
      "  Downloading blinker-1.9.0-py3-none-any.whl.metadata (1.6 kB)\n",
      "Collecting itsdangerous>=2.2.0 (from Flask<4->mlflow)\n",
      "  Downloading itsdangerous-2.2.0-py3-none-any.whl.metadata (1.9 kB)\n",
      "Requirement already satisfied: jinja2>=3.1.2 in /Users/keishoomori/myenv/lib/python3.10/site-packages (from Flask<4->mlflow) (3.1.6)\n",
      "Requirement already satisfied: markupsafe>=2.1.1 in /Users/keishoomori/myenv/lib/python3.10/site-packages (from Flask<4->mlflow) (3.0.2)\n",
      "Collecting werkzeug>=3.1.0 (from Flask<4->mlflow)\n",
      "  Downloading werkzeug-3.1.3-py3-none-any.whl.metadata (3.7 kB)\n",
      "Collecting gitdb<5,>=4.0.1 (from gitpython<4,>=3.1.9->mlflow-skinny==3.5.1->mlflow)\n",
      "  Downloading gitdb-4.0.12-py3-none-any.whl.metadata (1.2 kB)\n",
      "Collecting smmap<6,>=3.0.1 (from gitdb<5,>=4.0.1->gitpython<4,>=3.1.9->mlflow-skinny==3.5.1->mlflow)\n",
      "  Downloading smmap-5.0.2-py3-none-any.whl.metadata (4.3 kB)\n",
      "Collecting pyasn1-modules>=0.2.1 (from google-auth~=2.0->databricks-sdk<1,>=0.20.0->mlflow-skinny==3.5.1->mlflow)\n",
      "  Downloading pyasn1_modules-0.4.2-py3-none-any.whl.metadata (3.5 kB)\n",
      "Collecting rsa<5,>=3.1.4 (from google-auth~=2.0->databricks-sdk<1,>=0.20.0->mlflow-skinny==3.5.1->mlflow)\n",
      "  Downloading rsa-4.9.1-py3-none-any.whl.metadata (5.6 kB)\n",
      "Collecting graphql-core<3.3,>=3.1 (from graphene<4->mlflow)\n",
      "  Downloading graphql_core-3.2.6-py3-none-any.whl.metadata (11 kB)\n",
      "Collecting graphql-relay<3.3,>=3.1 (from graphene<4->mlflow)\n",
      "  Downloading graphql_relay-3.2.0-py3-none-any.whl.metadata (12 kB)\n",
      "Requirement already satisfied: python-dateutil<3,>=2.7.0 in /Users/keishoomori/myenv/lib/python3.10/site-packages (from graphene<4->mlflow) (2.9.0.post0)\n",
      "Collecting zipp>=3.20 (from importlib_metadata!=4.7.0,<9,>=3.7.0->mlflow-skinny==3.5.1->mlflow)\n",
      "  Downloading zipp-3.23.0-py3-none-any.whl.metadata (3.6 kB)\n",
      "Requirement already satisfied: contourpy>=1.0.1 in /Users/keishoomori/myenv/lib/python3.10/site-packages (from matplotlib<4->mlflow) (1.3.2)\n",
      "Requirement already satisfied: cycler>=0.10 in /Users/keishoomori/myenv/lib/python3.10/site-packages (from matplotlib<4->mlflow) (0.12.1)\n",
      "Requirement already satisfied: fonttools>=4.22.0 in /Users/keishoomori/myenv/lib/python3.10/site-packages (from matplotlib<4->mlflow) (4.58.5)\n",
      "Requirement already satisfied: kiwisolver>=1.3.1 in /Users/keishoomori/myenv/lib/python3.10/site-packages (from matplotlib<4->mlflow) (1.4.8)\n",
      "Requirement already satisfied: pillow>=8 in /Users/keishoomori/myenv/lib/python3.10/site-packages (from matplotlib<4->mlflow) (11.3.0)\n",
      "Requirement already satisfied: pyparsing>=2.3.1 in /Users/keishoomori/myenv/lib/python3.10/site-packages (from matplotlib<4->mlflow) (3.2.3)\n",
      "Collecting opentelemetry-semantic-conventions==0.59b0 (from opentelemetry-sdk<3,>=1.9.0->mlflow-skinny==3.5.1->mlflow)\n",
      "  Downloading opentelemetry_semantic_conventions-0.59b0-py3-none-any.whl.metadata (2.4 kB)\n",
      "Requirement already satisfied: pytz>=2020.1 in /Users/keishoomori/myenv/lib/python3.10/site-packages (from pandas<3->mlflow) (2025.2)\n",
      "Requirement already satisfied: tzdata>=2022.7 in /Users/keishoomori/myenv/lib/python3.10/site-packages (from pandas<3->mlflow) (2025.2)\n",
      "Collecting annotated-types>=0.6.0 (from pydantic<3,>=1.10.8->mlflow-skinny==3.5.1->mlflow)\n",
      "  Downloading annotated_types-0.7.0-py3-none-any.whl.metadata (15 kB)\n",
      "Collecting pydantic-core==2.41.4 (from pydantic<3,>=1.10.8->mlflow-skinny==3.5.1->mlflow)\n",
      "  Downloading pydantic_core-2.41.4-cp310-cp310-macosx_11_0_arm64.whl.metadata (7.3 kB)\n",
      "Collecting typing-inspection>=0.4.2 (from pydantic<3,>=1.10.8->mlflow-skinny==3.5.1->mlflow)\n",
      "  Downloading typing_inspection-0.4.2-py3-none-any.whl.metadata (2.6 kB)\n",
      "Requirement already satisfied: six>=1.5 in /Users/keishoomori/myenv/lib/python3.10/site-packages (from python-dateutil<3,>=2.7.0->graphene<4->mlflow) (1.17.0)\n",
      "Requirement already satisfied: charset_normalizer<4,>=2 in /Users/keishoomori/myenv/lib/python3.10/site-packages (from requests<3,>=2.17.3->mlflow-skinny==3.5.1->mlflow) (3.4.2)\n",
      "Requirement already satisfied: idna<4,>=2.5 in /Users/keishoomori/myenv/lib/python3.10/site-packages (from requests<3,>=2.17.3->mlflow-skinny==3.5.1->mlflow) (3.10)\n",
      "Requirement already satisfied: certifi>=2017.4.17 in /Users/keishoomori/myenv/lib/python3.10/site-packages (from requests<3,>=2.17.3->mlflow-skinny==3.5.1->mlflow) (2025.7.9)\n",
      "Collecting pyasn1>=0.1.3 (from rsa<5,>=3.1.4->google-auth~=2.0->databricks-sdk<1,>=0.20.0->mlflow-skinny==3.5.1->mlflow)\n",
      "  Downloading pyasn1-0.6.1-py3-none-any.whl.metadata (8.4 kB)\n",
      "Requirement already satisfied: joblib>=1.2.0 in /Users/keishoomori/myenv/lib/python3.10/site-packages (from scikit-learn<2->mlflow) (1.5.2)\n",
      "Requirement already satisfied: threadpoolctl>=3.1.0 in /Users/keishoomori/myenv/lib/python3.10/site-packages (from scikit-learn<2->mlflow) (3.6.0)\n",
      "Requirement already satisfied: anyio<5,>=3.6.2 in /Users/keishoomori/myenv/lib/python3.10/site-packages (from starlette<0.50.0,>=0.40.0->fastapi<1->mlflow-skinny==3.5.1->mlflow) (4.9.0)\n",
      "Requirement already satisfied: exceptiongroup>=1.0.2 in /Users/keishoomori/myenv/lib/python3.10/site-packages (from anyio<5,>=3.6.2->starlette<0.50.0,>=0.40.0->fastapi<1->mlflow-skinny==3.5.1->mlflow) (1.3.0)\n",
      "Requirement already satisfied: sniffio>=1.1 in /Users/keishoomori/myenv/lib/python3.10/site-packages (from anyio<5,>=3.6.2->starlette<0.50.0,>=0.40.0->fastapi<1->mlflow-skinny==3.5.1->mlflow) (1.3.1)\n",
      "Requirement already satisfied: h11>=0.8 in /Users/keishoomori/myenv/lib/python3.10/site-packages (from uvicorn<1->mlflow-skinny==3.5.1->mlflow) (0.16.0)\n",
      "Requirement already satisfied: pycparser in /Users/keishoomori/myenv/lib/python3.10/site-packages (from cffi>=2.0.0->cryptography<47,>=43.0.0->mlflow) (2.22)\n",
      "Downloading mlflow-3.5.1-py3-none-any.whl (8.8 MB)\n",
      "\u001b[2K   \u001b[90m━━━━━━━━━━━━━━━━━━━━━━━━━━━━━━━━━━━━━━━━\u001b[0m \u001b[32m8.8/8.8 MB\u001b[0m \u001b[31m176.6 kB/s\u001b[0m  \u001b[33m0:00:39\u001b[0mm0:00:01\u001b[0m00:03\u001b[0m\n",
      "\u001b[?25hDownloading mlflow_skinny-3.5.1-py3-none-any.whl (2.3 MB)\n",
      "\u001b[2K   \u001b[90m━━━━━━━━━━━━━━━━━━━━━━━━━━━━━━━━━━━━━━━━\u001b[0m \u001b[32m2.3/2.3 MB\u001b[0m \u001b[31m160.3 kB/s\u001b[0m  \u001b[33m0:00:13\u001b[0m eta \u001b[36m0:00:02\u001b[0m\n",
      "\u001b[?25hDownloading mlflow_tracing-3.5.1-py3-none-any.whl (1.3 MB)\n",
      "\u001b[2K   \u001b[90m━━━━━━━━━━━━━━━━━━━━━━━━━━━━━━━━━━━━━━━━\u001b[0m \u001b[32m1.3/1.3 MB\u001b[0m \u001b[31m253.0 kB/s\u001b[0m  \u001b[33m0:00:05\u001b[0m eta \u001b[36m0:00:01\u001b[0m\n",
      "\u001b[?25hDownloading alembic-1.17.1-py3-none-any.whl (247 kB)\n",
      "Downloading cachetools-6.2.1-py3-none-any.whl (11 kB)\n",
      "Downloading click-8.3.0-py3-none-any.whl (107 kB)\n",
      "Downloading cryptography-46.0.3-cp38-abi3-macosx_10_9_universal2.whl (7.2 MB)\n",
      "\u001b[2K   \u001b[90m━━━━━━━━━━━━━━━━━━━━━━━━━━━━━━━━━━━━━━━━\u001b[0m \u001b[32m7.2/7.2 MB\u001b[0m \u001b[31m166.9 kB/s\u001b[0m  \u001b[33m0:00:50\u001b[0mm0:00:01\u001b[0m00:03\u001b[0m\n",
      "\u001b[?25hDownloading databricks_sdk-0.70.0-py3-none-any.whl (752 kB)\n",
      "\u001b[2K   \u001b[90m━━━━━━━━━━━━━━━━━━━━━━━━━━━━━━━━━━━━━━━━\u001b[0m \u001b[32m752.6/752.6 kB\u001b[0m \u001b[31m60.8 kB/s\u001b[0m  \u001b[33m0:00:10\u001b[0m eta \u001b[36m0:00:04\u001b[0m\n",
      "\u001b[?25hDownloading docker-7.1.0-py3-none-any.whl (147 kB)\n",
      "Downloading fastapi-0.120.1-py3-none-any.whl (108 kB)\n",
      "Downloading flask-3.1.2-py3-none-any.whl (103 kB)\n",
      "Downloading flask_cors-6.0.1-py3-none-any.whl (13 kB)\n",
      "Downloading gitpython-3.1.45-py3-none-any.whl (208 kB)\n",
      "Downloading gitdb-4.0.12-py3-none-any.whl (62 kB)\n",
      "Downloading google_auth-2.42.0-py2.py3-none-any.whl (222 kB)\n",
      "Downloading graphene-3.4.3-py2.py3-none-any.whl (114 kB)\n",
      "Downloading graphql_core-3.2.6-py3-none-any.whl (203 kB)\n",
      "Downloading graphql_relay-3.2.0-py3-none-any.whl (16 kB)\n",
      "Downloading gunicorn-23.0.0-py3-none-any.whl (85 kB)\n",
      "Downloading importlib_metadata-8.7.0-py3-none-any.whl (27 kB)\n",
      "Downloading opentelemetry_api-1.38.0-py3-none-any.whl (65 kB)\n",
      "Downloading opentelemetry_proto-1.38.0-py3-none-any.whl (72 kB)\n",
      "Downloading opentelemetry_sdk-1.38.0-py3-none-any.whl (132 kB)\n",
      "Downloading opentelemetry_semantic_conventions-0.59b0-py3-none-any.whl (207 kB)\n",
      "Downloading pydantic-2.12.3-py3-none-any.whl (462 kB)\n",
      "Downloading pydantic_core-2.41.4-cp310-cp310-macosx_11_0_arm64.whl (1.9 MB)\n",
      "\u001b[2K   \u001b[90m━━━━━━━━━━━━━━━━━━━━━━━━━━━━━━━━━━━━━━━━\u001b[0m \u001b[32m1.9/1.9 MB\u001b[0m \u001b[31m92.4 kB/s\u001b[0m  \u001b[33m0:00:19\u001b[0m eta \u001b[36m0:00:01\u001b[0mm\n",
      "\u001b[?25hDownloading python_dotenv-1.2.1-py3-none-any.whl (21 kB)\n",
      "Downloading rsa-4.9.1-py3-none-any.whl (34 kB)\n",
      "Downloading smmap-5.0.2-py3-none-any.whl (24 kB)\n",
      "Downloading sqlalchemy-2.0.44-cp310-cp310-macosx_11_0_arm64.whl (2.1 MB)\n",
      "\u001b[2K   \u001b[90m━━━━━━━━━━━━━━━━━━━━━━━━━━━━━━━━━━━━━━━━\u001b[0m \u001b[32m2.1/2.1 MB\u001b[0m \u001b[31m282.4 kB/s\u001b[0m  \u001b[33m0:00:07\u001b[0m eta \u001b[36m0:00:02\u001b[0m\n",
      "\u001b[?25hDownloading sqlparse-0.5.3-py3-none-any.whl (44 kB)\n",
      "Downloading starlette-0.49.1-py3-none-any.whl (74 kB)\n",
      "Downloading uvicorn-0.38.0-py3-none-any.whl (68 kB)\n",
      "Downloading annotated_doc-0.0.3-py3-none-any.whl (5.5 kB)\n",
      "Downloading annotated_types-0.7.0-py3-none-any.whl (13 kB)\n",
      "Downloading blinker-1.9.0-py3-none-any.whl (8.5 kB)\n",
      "Downloading cffi-2.0.0-cp310-cp310-macosx_11_0_arm64.whl (180 kB)\n",
      "Downloading itsdangerous-2.2.0-py3-none-any.whl (16 kB)\n",
      "Downloading pyasn1-0.6.1-py3-none-any.whl (83 kB)\n",
      "Downloading pyasn1_modules-0.4.2-py3-none-any.whl (181 kB)\n",
      "Downloading typing_inspection-0.4.2-py3-none-any.whl (14 kB)\n",
      "Downloading werkzeug-3.1.3-py3-none-any.whl (224 kB)\n",
      "Downloading zipp-3.23.0-py3-none-any.whl (10 kB)\n",
      "Downloading mako-1.3.10-py3-none-any.whl (78 kB)\n",
      "Installing collected packages: zipp, werkzeug, typing-inspection, sqlparse, sqlalchemy, smmap, python-dotenv, pydantic-core, pyasn1, opentelemetry-proto, Mako, itsdangerous, gunicorn, graphql-core, click, cffi, cachetools, blinker, annotated-types, annotated-doc, uvicorn, rsa, pydantic, pyasn1-modules, importlib_metadata, graphql-relay, gitdb, Flask, docker, cryptography, alembic, starlette, opentelemetry-api, graphene, google-auth, gitpython, Flask-CORS, opentelemetry-semantic-conventions, fastapi, databricks-sdk, opentelemetry-sdk, mlflow-tracing, mlflow-skinny, mlflow\n",
      "\u001b[2K  Attempting uninstall: cffi╸\u001b[0m\u001b[90m━━━━━━━━━━━━━━━━━━━━━━━━━━━━\u001b[0m \u001b[32m13/44\u001b[0m [graphql-core]\n",
      "\u001b[2K    Found existing installation: cffi 1.17.1━━━━━━━━━━━━━━━━━━\u001b[0m \u001b[32m13/44\u001b[0m [graphql-core]\n",
      "\u001b[2K    Uninstalling cffi-1.17.1:\u001b[90m━━━━━━━━━━━━━━━━━━━━━━━━━━━━\u001b[0m \u001b[32m13/44\u001b[0m [graphql-core]\n",
      "\u001b[2K      Successfully uninstalled cffi-1.17.1━━━━━━━━━━━━━━━━━━━━━━━━\u001b[0m \u001b[32m15/44\u001b[0m [cffi]ore]\n",
      "\u001b[2K   \u001b[90m━━━━━━━━━━━━━━━━━━━━━━━━━━━━━━━━━━━━━━━━\u001b[0m \u001b[32m44/44\u001b[0m [mlflow] [mlflow] [mlflow-skinny]]dk]\n",
      "\u001b[1A\u001b[2KSuccessfully installed Flask-3.1.2 Flask-CORS-6.0.1 Mako-1.3.10 alembic-1.17.1 annotated-doc-0.0.3 annotated-types-0.7.0 blinker-1.9.0 cachetools-6.2.1 cffi-2.0.0 click-8.3.0 cryptography-46.0.3 databricks-sdk-0.70.0 docker-7.1.0 fastapi-0.120.1 gitdb-4.0.12 gitpython-3.1.45 google-auth-2.42.0 graphene-3.4.3 graphql-core-3.2.6 graphql-relay-3.2.0 gunicorn-23.0.0 importlib_metadata-8.7.0 itsdangerous-2.2.0 mlflow-3.5.1 mlflow-skinny-3.5.1 mlflow-tracing-3.5.1 opentelemetry-api-1.38.0 opentelemetry-proto-1.38.0 opentelemetry-sdk-1.38.0 opentelemetry-semantic-conventions-0.59b0 pyasn1-0.6.1 pyasn1-modules-0.4.2 pydantic-2.12.3 pydantic-core-2.41.4 python-dotenv-1.2.1 rsa-4.9.1 smmap-5.0.2 sqlalchemy-2.0.44 sqlparse-0.5.3 starlette-0.49.1 typing-inspection-0.4.2 uvicorn-0.38.0 werkzeug-3.1.3 zipp-3.23.0\n",
      "\n",
      "\u001b[1m[\u001b[0m\u001b[34;49mnotice\u001b[0m\u001b[1;39;49m]\u001b[0m\u001b[39;49m A new release of pip is available: \u001b[0m\u001b[31;49m25.2\u001b[0m\u001b[39;49m -> \u001b[0m\u001b[32;49m25.3\u001b[0m\n",
      "\u001b[1m[\u001b[0m\u001b[34;49mnotice\u001b[0m\u001b[1;39;49m]\u001b[0m\u001b[39;49m To update, run: \u001b[0m\u001b[32;49mpip install --upgrade pip\u001b[0m\n",
      "Note: you may need to restart the kernel to use updated packages.\n"
     ]
    }
   ],
   "source": [
    "%pip install mlflow\n",
    "import mlflow"
   ]
  },
  {
   "cell_type": "code",
   "execution_count": 2,
   "metadata": {},
   "outputs": [
    {
     "name": "stdout",
     "output_type": "stream",
     "text": [
      "tracking URI: 'file:///Users/keishoomori/Desktop/MBDS/term2/MLOps/ie_mlops_nyc_taxi/03-experiment-tracking/mlruns'\n"
     ]
    }
   ],
   "source": [
    "print(f\"tracking URI: '{mlflow.get_tracking_uri()}'\")"
   ]
  },
  {
   "cell_type": "code",
   "execution_count": 11,
   "metadata": {},
   "outputs": [
    {
     "data": {
      "text/plain": [
       "[<Experiment: artifact_location='file:///workspaces/mlops-zoomcamp/02-experiment-tracking/running-mlflow-examples/mlruns/462114580345106797', creation_time=1751191389446, experiment_id='462114580345106797', last_update_time=1751191389446, lifecycle_stage='active', name='my-experiment-1', tags={}>,\n",
       " <Experiment: artifact_location='file:///workspaces/mlops-zoomcamp/02-experiment-tracking/running-mlflow-examples/mlruns/0', creation_time=1751191388315, experiment_id='0', last_update_time=1751191388315, lifecycle_stage='active', name='Default', tags={}>]"
      ]
     },
     "execution_count": 11,
     "metadata": {},
     "output_type": "execute_result"
    }
   ],
   "source": [
    "mlflow.search_experiments()"
   ]
  },
  {
   "cell_type": "markdown",
   "metadata": {},
   "source": [
    "### Creating an experiment and logging a new run"
   ]
  },
  {
   "cell_type": "code",
   "execution_count": 12,
   "metadata": {},
   "outputs": [
    {
     "name": "stdout",
     "output_type": "stream",
     "text": [
      "Logged run for LogisticRegression, accuracy=0.973\n",
      "Logged run for RandomForestClassifier, accuracy=1.000\n"
     ]
    }
   ],
   "source": [
    "from sklearn.linear_model import LogisticRegression\n",
    "from sklearn.ensemble import RandomForestClassifier\n",
    "from sklearn.datasets import load_iris\n",
    "from sklearn.metrics import accuracy_score, confusion_matrix\n",
    "import numpy as np\n",
    "import mlflow\n",
    "import sklearn\n",
    "import datetime\n",
    "import pandas as pd\n",
    "import matplotlib.pyplot as plt\n",
    "import seaborn as sns\n",
    "\n",
    "mlflow.set_experiment(\"my-experiment-1\")\n",
    "\n",
    "X, y = load_iris(return_X_y=True)\n",
    "class_names = load_iris().target_names\n",
    "\n",
    "models = [\n",
    "    (\"LogisticRegression\", LogisticRegression(C=1.0, random_state=42, max_iter=1000, solver=\"lbfgs\")),\n",
    "    (\"RandomForestClassifier\", RandomForestClassifier(n_estimators=100, random_state=42))\n",
    "]\n",
    "\n",
    "for model_name, model in models:\n",
    "    with mlflow.start_run() as run:\n",
    "        mlflow.set_tag(\"model_type\", model_name)\n",
    "        mlflow.log_param(\"sklearn_version\", sklearn.__version__)\n",
    "        model.fit(X, y)\n",
    "        y_pred = model.predict(X)\n",
    "        acc = accuracy_score(y, y_pred)\n",
    "        mlflow.log_metric(\"accuracy\", acc)\n",
    "        # Log confusion matrix as labeled DataFrame\n",
    "        cm = confusion_matrix(y, y_pred)\n",
    "        cm_df = pd.DataFrame(cm, index=class_names, columns=class_names)\n",
    "        cm_df.to_csv(\"confusion_matrix_labeled.csv\")\n",
    "        mlflow.log_artifact(\"confusion_matrix_labeled.csv\")\n",
    "        # Confusion matrix heatmap as image\n",
    "        plt.figure(figsize=(5,4))\n",
    "        sns.heatmap(cm_df, annot=True, fmt=\"d\", cmap=\"Blues\")\n",
    "        plt.title(f\"Confusion Matrix ({model_name})\")\n",
    "        plt.ylabel(\"True label\")\n",
    "        plt.xlabel(\"Predicted label\")\n",
    "        plt.tight_layout()\n",
    "        plt.savefig(\"confusion_matrix_heatmap.png\")\n",
    "        plt.close()\n",
    "        mlflow.log_artifact(\"confusion_matrix_heatmap.png\")\n",
    "        # Provide input_example and use 'name' instead of deprecated 'artifact_path'\n",
    "        input_example = np.expand_dims(X[0], axis=0)\n",
    "        mlflow.sklearn.log_model(model, name=\"models\", input_example=input_example)\n",
    "        mlflow.set_tag(\"n_classes\", len(np.unique(y)))\n",
    "        mlflow.set_tag(\"run_time\", datetime.datetime.now().isoformat())\n",
    "        mlflow.set_tag(\"description\", f\"{model_name} on Iris dataset\")\n",
    "        print(f\"Logged run for {model_name}, accuracy={acc:.3f}\")"
   ]
  },
  {
   "cell_type": "code",
   "execution_count": 13,
   "metadata": {},
   "outputs": [
    {
     "data": {
      "text/plain": [
       "[<Experiment: artifact_location='file:///workspaces/mlops-zoomcamp/02-experiment-tracking/running-mlflow-examples/mlruns/462114580345106797', creation_time=1751191389446, experiment_id='462114580345106797', last_update_time=1751191389446, lifecycle_stage='active', name='my-experiment-1', tags={}>,\n",
       " <Experiment: artifact_location='file:///workspaces/mlops-zoomcamp/02-experiment-tracking/running-mlflow-examples/mlruns/0', creation_time=1751191388315, experiment_id='0', last_update_time=1751191388315, lifecycle_stage='active', name='Default', tags={}>]"
      ]
     },
     "execution_count": 13,
     "metadata": {},
     "output_type": "execute_result"
    }
   ],
   "source": [
    "mlflow.search_experiments()"
   ]
  },
  {
   "cell_type": "code",
   "execution_count": 14,
   "metadata": {},
   "outputs": [
    {
     "name": "stdout",
     "output_type": "stream",
     "text": [
      "MLflow UI started. Open http://localhost:5000 in your browser.\n"
     ]
    }
   ],
   "source": [
    "# Launch MLflow UI (default: uses local mlruns/ folder)\n",
    "import subprocess\n",
    "import sys\n",
    "\n",
    "# This will run 'mlflow ui' as a background process\n",
    "subprocess.Popen([sys.executable, '-m', 'mlflow', 'ui'])\n",
    "print(\"MLflow UI started. Open http://localhost:5000 in your browser.\")"
   ]
  },
  {
   "cell_type": "markdown",
   "metadata": {},
   "source": [
    "### Interacting with the model registry"
   ]
  },
  {
   "cell_type": "code",
   "execution_count": 15,
   "metadata": {},
   "outputs": [],
   "source": [
    "from mlflow.tracking import MlflowClient\n",
    "\n",
    "\n",
    "client = MlflowClient()"
   ]
  },
  {
   "cell_type": "code",
   "execution_count": null,
   "metadata": {},
   "outputs": [
    {
     "name": "stderr",
     "output_type": "stream",
     "text": [
      "[2025-06-29 10:04:13 +0000] [87272] [INFO] Starting gunicorn 23.0.0\n",
      "[2025-06-29 10:04:13 +0000] [87272] [INFO] Listening at: http://127.0.0.1:5000 (87272)\n",
      "[2025-06-29 10:04:13 +0000] [87272] [INFO] Using worker: sync\n",
      "[2025-06-29 10:04:13 +0000] [87273] [INFO] Booting worker with pid: 87273\n",
      "[2025-06-29 10:04:13 +0000] [87274] [INFO] Booting worker with pid: 87274\n",
      "[2025-06-29 10:04:13 +0000] [87281] [INFO] Booting worker with pid: 87281\n",
      "[2025-06-29 10:04:13 +0000] [87282] [INFO] Booting worker with pid: 87282\n"
     ]
    }
   ],
   "source": [
    "from mlflow.exceptions import MlflowException\n",
    "\n",
    "try:\n",
    "    client.search_registered_models()\n",
    "except MlflowException:\n",
    "    print(\"It's not possible to access the model registry :(\")"
   ]
  }
 ],
 "metadata": {
  "kernelspec": {
   "display_name": "Python (myenv)",
   "language": "python",
   "name": "myenv"
  },
  "language_info": {
   "codemirror_mode": {
    "name": "ipython",
    "version": 3
   },
   "file_extension": ".py",
   "mimetype": "text/x-python",
   "name": "python",
   "nbconvert_exporter": "python",
   "pygments_lexer": "ipython3",
   "version": "3.10.4"
  },
  "orig_nbformat": 4
 },
 "nbformat": 4,
 "nbformat_minor": 2
}
